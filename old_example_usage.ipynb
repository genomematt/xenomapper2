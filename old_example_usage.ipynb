{
 "cells": [
  {
   "cell_type": "markdown",
   "metadata": {},
   "source": [
    "# How to use Xenomapper2\n",
    "\n",
    "This document is a [jupyter](http://jupyter.org) notebook that illustrates some of the ways to use xenomapper2.\n",
    "If you are viewing this on github it will have the output of each of the commands shown, or alternatively you can download the .ipynb file and run the examples on your own system.  All commands are executed on the command line, and the `%%bash` should be ingnored if you are following along at the command line (the `%%bash` just tells jupyter to execute the cells code with bash when this document is run as a notebook)."
   ]
  },
  {
   "cell_type": "markdown",
   "metadata": {},
   "source": [
    "Xenomapper2 is a tool for post processing reads that come from a biological source where two genomes are present and the reads have been aligned to both of these reference genomes.  Xenomapper2 compares the primary mapping scores between the two genomes, and if available the suboptimal alignment mapping score to assess uniqueness within the genome, to determine the specificity of the read and template.  Unlike compound genome mapping approaches this is capable of resolving species specific multimapping reads."
   ]
  },
  {
   "cell_type": "markdown",
   "metadata": {},
   "source": [
    "Before using Xenomapper2 you must have mapped your reads to both genomes of interest.  Xenomapper2 can be used with most common aligners including [bowtie2](http://bowtie-bio.sourceforge.net/bowtie2/index.shtml), [HISAT2](https://ccb.jhu.edu/software/hisat2/), and [BWA-MEM](https://github.com/lh3/bwa).  The dataset that we will use is from [Rossello et al](http://dx.doi.org/10.1371/journal.pone.0074432) and is a publicly available cell line data set.  Although this data set is older we use it as it does not require any restricted access.  (Note the downloads for running this example total 700MB for the data and 7GB for the references)"
   ]
  },
  {
   "cell_type": "markdown",
   "metadata": {},
   "source": [
    "# Installation"
   ]
  },
  {
   "cell_type": "markdown",
   "metadata": {},
   "source": [
    "This example requires bowtie2, sratoolkit, and samtools.  If you do not already have these installed the easiest way to install these requirements on linux or MacOS is to use [homebrew](http://brew.sh) or [linuxbrew](http://linuxbrew.sh)"
   ]
  },
  {
   "cell_type": "code",
   "execution_count": null,
   "metadata": {
    "collapsed": true
   },
   "outputs": [],
   "source": [
    "%%bash\n",
    "brew install bowtie2\n",
    "brew install sratoolkit\n",
    "brew install samtools"
   ]
  },
  {
   "cell_type": "code",
   "execution_count": 8,
   "metadata": {
    "collapsed": false
   },
   "outputs": [
    {
     "name": "stdout",
     "output_type": "stream",
     "text": [
      "bowtie2: stable 2.3.5.1 (bottled)\n",
      "Fast and sensitive gapped read aligner\n",
      "https://bowtie-bio.sourceforge.io/bowtie2/\n",
      "/usr/local/Cellar/bowtie2/2.3.5.1 (79 files, 24.1MB) *\n",
      "  Poured from bottle on 2020-02-18 at 14:28:30\n",
      "From: https://github.com/Homebrew/homebrew-core/blob/master/Formula/bowtie2.rb\n",
      "==> Dependencies\n",
      "Required: tbb\n",
      "==> Analytics\n",
      "install: 156 (30 days), 459 (90 days), 2,760 (365 days)\n",
      "install-on-request: 119 (30 days), 365 (90 days), 2,027 (365 days)\n",
      "build-error: 0 (30 days)\n",
      "\n",
      "samtools: stable 1.10 (bottled)\n",
      "Tools for manipulating next-generation sequencing data\n",
      "https://www.htslib.org/\n",
      "/usr/local/Cellar/samtools/1.10 (58 files, 959KB) *\n",
      "  Poured from bottle on 2020-02-18 at 14:33:20\n",
      "From: https://github.com/Homebrew/homebrew-core/blob/master/Formula/samtools.rb\n",
      "==> Dependencies\n",
      "Required: htslib\n",
      "==> Analytics\n",
      "install: 528 (30 days), 1,868 (90 days), 6,096 (365 days)\n",
      "install-on-request: 474 (30 days), 1,657 (90 days), 5,586 (365 days)\n",
      "build-error: 0 (30 days)\n",
      "\n",
      "sratoolkit: stable 2.10.0 (bottled), HEAD\n",
      "Data tools for INSDC Sequence Read Archive\n",
      "https://github.com/ncbi/sra-tools\n",
      "/usr/local/Cellar/sratoolkit/2.10.0 (104 files, 69.2MB) *\n",
      "  Poured from bottle on 2020-02-18 at 14:31:20\n",
      "From: https://github.com/Homebrew/homebrew-core/blob/master/Formula/sratoolkit.rb\n",
      "==> Dependencies\n",
      "Required: hdf5, libmagic\n",
      "==> Options\n",
      "--HEAD\n",
      "\tInstall HEAD version\n",
      "==> Analytics\n",
      "install: 118 (30 days), 366 (90 days), 1,306 (365 days)\n",
      "install-on-request: 108 (30 days), 339 (90 days), 1,232 (365 days)\n",
      "build-error: 0 (30 days)\n"
     ]
    }
   ],
   "source": [
    "%%bash\n",
    "brew info bowtie2 samtools sratoolkit"
   ]
  },
  {
   "cell_type": "code",
   "execution_count": 3,
   "metadata": {
    "collapsed": false
   },
   "outputs": [
    {
     "name": "stdout",
     "output_type": "stream",
     "text": [
      "Processing /Users/wakefield/PycharmProjects/xenomapper2\n",
      "Requirement already satisfied, skipping upgrade: setuptools>=1.1.6 in /Users/wakefield/Library/Python/3.7/lib/python/site-packages (from xenomapper2==2.0a1) (45.2.0)\n",
      "Requirement already satisfied, skipping upgrade: pylazybam in /Users/wakefield/repos/pylazybam (from xenomapper2==2.0a1) (0.1.0)\n",
      "Requirement already satisfied, skipping upgrade: docopt in /usr/local/lib/python3.7/site-packages (from xenomapper2==2.0a1) (0.6.2)\n",
      "Building wheels for collected packages: xenomapper2\n",
      "  Building wheel for xenomapper2 (setup.py): started\n",
      "  Building wheel for xenomapper2 (setup.py): finished with status 'done'\n",
      "  Stored in directory: /private/var/folders/3_/7gn1zhl111q5c1cx1dvr2pt00000gp/T/pip-ephem-wheel-cache-721tyklf/wheels/b2/99/37/17f1c2e8a439770abaa348659b9bbf10e63d6c67db7688beae\n",
      "Successfully built xenomapper2\n",
      "Installing collected packages: xenomapper2\n",
      "Successfully installed xenomapper2-2.0a1\n"
     ]
    }
   ],
   "source": [
    "%%bash\n",
    "#pip3 install --upgrade xenomapper2\n",
    "pip3 install --upgrade ../xenomapper2"
   ]
  },
  {
   "cell_type": "markdown",
   "metadata": {},
   "source": [
    "# Download data files\n",
    "The Short Read Archive uses its own file format so we need to use their tool to access the data.  Unfortunately all this is very slow so downloading the full dataset can take a long time.  To speed up the process we will only download the first 1 Million reads.  (Alternatively you could use [Aspera connect](http://www.ncbi.nlm.nih.gov/books/NBK242625/))\n",
    "You need to preserve the original readnames (--origfmt), and want singleton reads in a separate file (--split-3)."
   ]
  },
  {
   "cell_type": "code",
   "execution_count": 9,
   "metadata": {
    "collapsed": false
   },
   "outputs": [
    {
     "name": "stdout",
     "output_type": "stream",
     "text": [
      "Read 1000000 spots for SRR879369\n",
      "Written 1000000 spots for SRR879369\n"
     ]
    }
   ],
   "source": [
    "%%bash\n",
    "fastq-dump -X 1000000 --origfmt --split-3 SRR879369\n"
   ]
  },
  {
   "cell_type": "markdown",
   "metadata": {},
   "source": [
    "We also need to have both the bowtie2 index for both human and mouse so we will download the prebuilt versions from the bowtie2 web page"
   ]
  },
  {
   "cell_type": "code",
   "execution_count": 10,
   "metadata": {
    "collapsed": false
   },
   "outputs": [
    {
     "name": "stderr",
     "output_type": "stream",
     "text": [
      "  % Total    % Received % Xferd  Average Speed   Time    Time     Time  Current\n",
      "                                 Dload  Upload   Total   Spent    Left  Speed\n",
      "100 3575M  100 3575M    0     0  7013k      0  0:08:42  0:08:42 --:--:-- 8160k\n"
     ]
    }
   ],
   "source": [
    "%%bash\n",
    "curl -O ftp://ftp.ncbi.nlm.nih.gov/genomes/archive/old_genbank/Eukaryotes/vertebrates_mammals/Homo_sapiens/GRCh38/seqs_for_alignment_pipelines/GCA_000001405.15_GRCh38_no_alt_analysis_set.fna.bowtie_index.tar.gz"
   ]
  },
  {
   "cell_type": "code",
   "execution_count": 11,
   "metadata": {
    "collapsed": false
   },
   "outputs": [
    {
     "name": "stderr",
     "output_type": "stream",
     "text": [
      "  % Total    % Received % Xferd  Average Speed   Time    Time     Time  Current\n",
      "                                 Dload  Upload   Total   Spent    Left  Speed\n",
      "100 3213M  100 3213M    0     0  7195k      0  0:07:37  0:07:37 --:--:-- 8008k\n"
     ]
    }
   ],
   "source": [
    "%%bash\n",
    "curl -O ftp://ftp.ccb.jhu.edu/pub/data/bowtie2_indexes/mm10.zip"
   ]
  },
  {
   "cell_type": "code",
   "execution_count": 12,
   "metadata": {
    "collapsed": false
   },
   "outputs": [
    {
     "name": "stdout",
     "output_type": "stream",
     "text": [
      "Archive:  mm10.zip\n",
      "  inflating: genomes/mm10.1.bt2      \n",
      "  inflating: genomes/mm10.2.bt2      \n",
      "  inflating: genomes/mm10.3.bt2      \n",
      "  inflating: genomes/mm10.4.bt2      \n",
      "  inflating: genomes/mm10.rev.1.bt2  \n",
      "  inflating: genomes/mm10.rev.2.bt2  \n",
      "  inflating: genomes/make_mm10.sh    \n"
     ]
    }
   ],
   "source": [
    "%%bash\n",
    "mkdir genomes\n",
    "tar xzf GCA_000001405.15_GRCh38_no_alt_analysis_set.fna.bowtie_index.tar.gz -C genomes/\n",
    "unzip mm10.zip -d genomes/"
   ]
  },
  {
   "cell_type": "markdown",
   "metadata": {},
   "source": [
    "# Mapping the data"
   ]
  },
  {
   "cell_type": "markdown",
   "metadata": {},
   "source": [
    "When Xenomapper compares the output of the mapping against the two genomes it needs to be able to locate the same read in both genomes while simultaneously traversing the two files.  This is trivial if the reads are maintained in the same order through the mapping process, so choosing our mapping options carefully avoids the need to resort the mapped reads by name. (Sorting works if you need to do this with previously mapped data, just use the same tool (e.g. samtools sort) on both files as lexicial sort order varies between programs).\n",
    "\n",
    "Most aligners in single thread mode will return the results in the same order that they occur in the fastq input file, and in mutlithreaded mode there is usually an option to preserve the read order.\n",
    "\n",
    "From the downloads above you should have two fastq files in your working directory and 12 .bt2 bowtie2 index files in the genomes folder."
   ]
  },
  {
   "cell_type": "code",
   "execution_count": 17,
   "metadata": {
    "collapsed": false
   },
   "outputs": [
    {
     "name": "stderr",
     "output_type": "stream",
     "text": [
      "1000000 reads; of these:\n",
      "  1000000 (100.00%) were paired; of these:\n",
      "    152190 (15.22%) aligned concordantly 0 times\n",
      "    607098 (60.71%) aligned concordantly exactly 1 time\n",
      "    240712 (24.07%) aligned concordantly >1 times\n",
      "    ----\n",
      "    152190 pairs aligned concordantly 0 times; of these:\n",
      "      74655 (49.05%) aligned discordantly 1 time\n",
      "    ----\n",
      "    77535 pairs aligned 0 times concordantly or discordantly; of these:\n",
      "      155070 mates make up the pairs; of these:\n",
      "        40931 (26.40%) aligned 0 times\n",
      "        36482 (23.53%) aligned exactly 1 time\n",
      "        77657 (50.08%) aligned >1 times\n",
      "97.95% overall alignment rate\n"
     ]
    }
   ],
   "source": [
    "%%bash\n",
    "bowtie2 --local --threads 7 --reorder \\\n",
    "         -x genomes/GCA_000001405.15_GRCh38_no_alt_analysis_set.fna.bowtie_index \\\n",
    "         -1 SRR879369_1.fastq \\\n",
    "         -2 SRR879369_2.fastq \\\n",
    "         | samtools view -b - > SRR879369.hs.bam\n"
   ]
  },
  {
   "cell_type": "code",
   "execution_count": 18,
   "metadata": {
    "collapsed": false
   },
   "outputs": [
    {
     "name": "stderr",
     "output_type": "stream",
     "text": [
      "1000000 reads; of these:\n",
      "  1000000 (100.00%) were paired; of these:\n",
      "    978336 (97.83%) aligned concordantly 0 times\n",
      "    7804 (0.78%) aligned concordantly exactly 1 time\n",
      "    13860 (1.39%) aligned concordantly >1 times\n",
      "    ----\n",
      "    978336 pairs aligned concordantly 0 times; of these:\n",
      "      2787 (0.28%) aligned discordantly 1 time\n",
      "    ----\n",
      "    975549 pairs aligned 0 times concordantly or discordantly; of these:\n",
      "      1951098 mates make up the pairs; of these:\n",
      "        1839070 (94.26%) aligned 0 times\n",
      "        51395 (2.63%) aligned exactly 1 time\n",
      "        60633 (3.11%) aligned >1 times\n",
      "8.05% overall alignment rate\n"
     ]
    }
   ],
   "source": [
    "%%bash\n",
    "bowtie2 --local --threads 7 --reorder \\\n",
    "         -x genomes/mm10 \\\n",
    "         -1 SRR879369_1.fastq \\\n",
    "         -2 SRR879369_2.fastq \\\n",
    "         | samtools view -b - > SRR879369.mm.bam\n",
    "\n"
   ]
  },
  {
   "cell_type": "markdown",
   "metadata": {},
   "source": [
    "We can see from the bowtie output that the majority of reads in this sample are human.  Mapping to the human genome is sufficient to identify the concordant reads with paired end at this length; however, we are much more interested in the discordant reads as these will be important cancer structural variations.  Also of note is that the numbers don't add up, there are clearly reads with valid alignments to both genomes that need disambiguating based on the alignment score. "
   ]
  },
  {
   "cell_type": "markdown",
   "metadata": {},
   "source": [
    "# Catagorizing reads with Xenomapper2"
   ]
  },
  {
   "cell_type": "code",
   "execution_count": 22,
   "metadata": {
    "collapsed": false
   },
   "outputs": [
    {
     "name": "stderr",
     "output_type": "stream",
     "text": [
      "\n",
      "xenomapper2 v2.0a1 --primary=SRR879369.hs.bam --secondary=SRR879369.mm.bam --primary-specific=None --primary-multi=None --secondary-specific=None --secondary-multi=None --unassigned=None --unresolved=None --basename=SRR879369 --min-score=None --zs=False --cigar=False --max=False --conservative=False --version=False\n",
      "\n",
      "--------------------------------------------------------------------------------\n",
      "\n",
      "Read Category Summary\n",
      "\n",
      "|       Category                                     |     Count       |\n",
      "|:--------------------------------------------------:|:---------------:|\n",
      "|  primary_multi & primary_multi                     |          58669  |\n",
      "|  primary_multi & primary_specific                  |          18113  |\n",
      "|  primary_multi & secondary_multi                   |            136  |\n",
      "|  primary_multi & secondary_specific                |            319  |\n",
      "|  primary_multi & unresolved                        |             73  |\n",
      "|  primary_specific & primary_multi                  |          18861  |\n",
      "|  primary_specific & primary_specific               |         875734  |\n",
      "|  primary_specific & secondary_multi                |            389  |\n",
      "|  primary_specific & secondary_specific             |            866  |\n",
      "|  primary_specific & unassigned                     |           4089  |\n",
      "|  primary_specific & unresolved                     |            206  |\n",
      "|  secondary_multi & primary_multi                   |            136  |\n",
      "|  secondary_multi & primary_specific                |            331  |\n",
      "|  secondary_multi & secondary_multi                 |            111  |\n",
      "|  secondary_multi & secondary_specific              |            147  |\n",
      "|  secondary_multi & unresolved                      |             24  |\n",
      "|  secondary_specific & primary_multi                |            439  |\n",
      "|  secondary_specific & primary_specific             |           1015  |\n",
      "|  secondary_specific & secondary_multi              |            160  |\n",
      "|  secondary_specific & secondary_specific           |            403  |\n",
      "|  secondary_specific & unassigned                   |            178  |\n",
      "|  secondary_specific & unresolved                   |             34  |\n",
      "|  unassigned & primary_specific                     |           1862  |\n",
      "|  unassigned & secondary_specific                   |           1245  |\n",
      "|  unassigned & unassigned                           |          15866  |\n",
      "|  unassigned & unresolved                           |            123  |\n",
      "|  unresolved & primary_multi                        |            102  |\n",
      "|  unresolved & primary_specific                     |            221  |\n",
      "|  unresolved & secondary_multi                      |             10  |\n",
      "|  unresolved & secondary_specific                   |             28  |\n",
      "|  unresolved & unassigned                           |             23  |\n",
      "|  unresolved & unresolved                           |             87  |\n",
      "\n",
      "--------------------------------------------------------------------------------\n",
      "\n",
      "Read Pair Category Summary\n",
      "\n",
      "|       Category                                     |     Count       |\n",
      "|:--------------------------------------------------:|:---------------:|\n",
      "|  primary_multi                                     |          59116  |\n",
      "|  primary_specific                                  |         921687  |\n",
      "|  secondary_multi                                   |            145  |\n",
      "|  secondary_specific                                |           2953  |\n",
      "|  unassigned                                        |          15866  |\n",
      "|  unresolved                                        |            233  |\n",
      "\n",
      "\n",
      "\n",
      "Total templates assigned : 1000000 in 56.28s\n",
      "\n"
     ]
    }
   ],
   "source": [
    "%%bash\n",
    "xenomapper2 --primary SRR879369.hs.bam \\\n",
    "            --secondary SRR879369.mm.bam \\\n",
    "            --basename SRR879369"
   ]
  },
  {
   "cell_type": "markdown",
   "metadata": {},
   "source": [
    "The summary table is markdown formated.  Also note that the summary for paired end data treats forward and reverse orientations of discord as separate categories.  This is because the reverse read is frequently of lower quality that forward read and this information can be useful for tuning quality thresholds.\n",
    "\n",
    "### Read Category Summary\n",
    "\n",
    "|       Category                                     |     Count       |\n",
    "|:--------------------------------------------------:|:---------------:|\n",
    "|  primary_multi & primary_multi                     |          58669  |\n",
    "|  primary_multi & primary_specific                  |          18113  |\n",
    "|  primary_multi & secondary_multi                   |            136  |\n",
    "|  primary_multi & secondary_specific                |            319  |\n",
    "|  primary_multi & unresolved                        |             73  |\n",
    "|  primary_specific & primary_multi                  |          18861  |\n",
    "|  primary_specific & primary_specific               |         875734  |\n",
    "|  primary_specific & secondary_multi                |            389  |\n",
    "|  primary_specific & secondary_specific             |            866  |\n",
    "|  primary_specific & unassigned                     |           4089  |\n",
    "|  primary_specific & unresolved                     |            206  |\n",
    "|  secondary_multi & primary_multi                   |            136  |\n",
    "|  secondary_multi & primary_specific                |            331  |\n",
    "|  secondary_multi & secondary_multi                 |            111  |\n",
    "|  secondary_multi & secondary_specific              |            147  |\n",
    "|  secondary_multi & unresolved                      |             24  |\n",
    "|  secondary_specific & primary_multi                |            439  |\n",
    "|  secondary_specific & primary_specific             |           1015  |\n",
    "|  secondary_specific & secondary_multi              |            160  |\n",
    "|  secondary_specific & secondary_specific           |            403  |\n",
    "|  secondary_specific & unassigned                   |            178  |\n",
    "|  secondary_specific & unresolved                   |             34  |\n",
    "|  unassigned & primary_specific                     |           1862  |\n",
    "|  unassigned & secondary_specific                   |           1245  |\n",
    "|  unassigned & unassigned                           |          15866  |\n",
    "|  unassigned & unresolved                           |            123  |\n",
    "|  unresolved & primary_multi                        |            102  |\n",
    "|  unresolved & primary_specific                     |            221  |\n",
    "|  unresolved & secondary_multi                      |             10  |\n",
    "|  unresolved & secondary_specific                   |             28  |\n",
    "|  unresolved & unassigned                           |             23  |\n",
    "|  unresolved & unresolved                           |             87  |\n"
   ]
  },
  {
   "cell_type": "markdown",
   "metadata": {},
   "source": [
    "You can also specify addition output files for other categories of read.  For example if we were interested in oncoviruses we could look in the unassigned category, although the more usual contents is poor quality reads and adaptor sequences."
   ]
  },
  {
   "cell_type": "code",
   "execution_count": 30,
   "metadata": {
    "collapsed": false
   },
   "outputs": [
    {
     "name": "stdout",
     "output_type": "stream",
     "text": [
      "D81P8DQ1:109:D1CW8ACXX:4:1101:5445:2187\t77\t*\t0\t0\t*\t*\t0\t0\tGATCGGAAGAGCACACGTCTGANCTCCAGTCACCCGTCCCGATCTCNNNTGCCGGCTTCTGCTTGCAAAAAAACAAACGCAGAGTAGAGTGGACATGCTCA\t@BCFFFFFHGHHHJIJJEHIJI#1?FHEHCGGJIJHHIJJDA7@FG#######################################################\tYT:Z:UP\n",
      "D81P8DQ1:109:D1CW8ACXX:4:1101:5445:2187\t141\t*\t0\t0\t*\t*\t0\t0\tGGNNNGNGAAAGGGGGGGNGNGNGNGGGGGGGNNNGGGGGGGGGGGNGGGGGGGTCTCTTTAAAAAAAAAAAAAAAAAAACACACAACAACGTACGANTGA\t1?###################################################################################################\tYT:Z:UP\n",
      "D81P8DQ1:109:D1CW8ACXX:4:1101:9772:2187\t77\t*\t0\t0\t*\t*\t0\t0\tGATCGGAAGAGCACACGTCTGANCTCCAGTCACCNGTCCCGATCTCNNNTGCCGTCTTCTGCTTTAAAAAAAAANAATAAAGAACAACAAAACGCAGTACA\tCCCFFFFFGFGHHJJIJFHIJJ#1@EGGHHIJJJ#08BGGA7@G>F#######################################################\tYT:Z:UP\n",
      "D81P8DQ1:109:D1CW8ACXX:4:1101:9772:2187\t141\t*\t0\t0\t*\t*\t0\t0\tGGNNNGNGGGGGAGGGGGNGNGNGNGAAGGGGNNNGAGNGGTGGGGNGGCGCGCGACTTTNAAAAAAAAAAAAAAAAAATAGCATAAAATACGTAATNGCT\t#####################################################################################################\tYT:Z:UP\n",
      "D81P8DQ1:109:D1CW8ACXX:4:1101:12439:2241\t77\t*\t0\t0\t*\t*\t0\t0\tGATCGGAAGAGCACACGTCTGAACTCCAGTCACCCGTCCCGATCTCGTATGCCGTCTTCTGCTTGGATCGGAAGAGCACACAGCTGAAATCCAGTCACCCC\tBCCFFFFFHHHHGJJJJHJJJJJJIJJJJHJJJJJIGIJJD@;@DFECHGEDG85=;BCD#########################################\tYT:Z:UP\n",
      "D81P8DQ1:109:D1CW8ACXX:4:1101:12439:2241\t141\t*\t0\t0\t*\t*\t0\t0\tGGGGGGGGAGAGGGGGGGGGGGGGGGGGGGGGGGGGGGGGGGGGGGGGGGGGGGGCTGTTTAAAAAAAAAAAAAAAAAAGAAGTAAGAAGAGAGCAAGGGG\t#####################################################################################################\tYT:Z:UP\n",
      "D81P8DQ1:109:D1CW8ACXX:4:1101:14142:2190\t77\t*\t0\t0\t*\t*\t0\t0\tGATCGGAAGAGCACACGCCTGANCTCCAGTCACCNGTCCCGATCTCNNNTGCCGTCTTGTGCTTTTTAAACAGANATCGCTCATGATTGAGCGATTGTCGT\t@@@DDD;DFFFF?FGBFFIIFG#11CFCF?GFFI#00?BFD;65=@#######################################################\tYT:Z:UP\n",
      "D81P8DQ1:109:D1CW8ACXX:4:1101:14142:2190\t141\t*\t0\t0\t*\t*\t0\t0\tAGNNNGNAGAGAGGGGCGNGNGNGNGGGGGGGNNNAGANTTGNGGGNGGGGGCTGTCTCANAAAAAAAAAAAAAATTCAGAAACAAAGGGAAGGACANAGT\t#####################################################################################################\tYT:Z:UP\tYF:Z:NS\n",
      "D81P8DQ1:109:D1CW8ACXX:4:1101:16477:2184\t77\t*\t0\t0\t*\t*\t0\t0\tTACAAATGGCTCTCTAGTTTCANATGAANNNNTANTGAAAACAGTANNNTGGTCTGTATTAGGTTCTCCAGAGANACAGGACTAATAAGATATATACATGT\tCCCFFFFFHHHHHJJJJIJJJJ#3AFHI####11#1:DHGIJIJBG###--BFHHIFHIJJJJHGGHHHHHFFF#,;ACBDDCCCDDDDDDADEEEEEED:\tYT:Z:UP\n",
      "D81P8DQ1:109:D1CW8ACXX:4:1101:16477:2184\t141\t*\t0\t0\t*\t*\t0\t0\tGANNNTNGAACTAAACCANCNNNTNACCTGGGNNNCCANCTTNCTGNCCTGCCCTCGAGTNCTTCATNATTCCATGAGGTAANTCCTTTTAATCTNCNTCT\tCC###2#2>CFHHJJJJJ#3###2#1:EHGJI###08B#0?F#-<C#-;FEHJHHGH>EF#,;ABBD#,8?BDADDDDD:@@#+2?@BCDCCDCA######\tYT:Z:UP\tYF:Z:NS\n"
     ]
    }
   ],
   "source": [
    "%%bash\n",
    "samtools view SRR879369_unassigned.bam | head"
   ]
  },
  {
   "cell_type": "code",
   "execution_count": null,
   "metadata": {},
   "outputs": [],
   "source": []
  }
 ],
 "metadata": {
  "kernelspec": {
   "display_name": "Python 3",
   "language": "python",
   "name": "python3"
  },
  "language_info": {
   "codemirror_mode": {
    "name": "ipython",
    "version": 3
   },
   "file_extension": ".py",
   "mimetype": "text/x-python",
   "name": "python",
   "nbconvert_exporter": "python",
   "pygments_lexer": "ipython3",
   "version": "3.7.4"
  }
 },
 "nbformat": 4,
 "nbformat_minor": 2
}
